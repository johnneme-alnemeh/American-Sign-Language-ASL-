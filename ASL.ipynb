{
  "cells": [
    {
      "cell_type": "markdown",
      "metadata": {
        "id": "view-in-github",
        "colab_type": "text"
      },
      "source": [
        "<a href=\"https://colab.research.google.com/github/johnneme-alnemeh/American-Sign-Language-ASL-/blob/main/ASL.ipynb\" target=\"_parent\"><img src=\"https://colab.research.google.com/assets/colab-badge.svg\" alt=\"Open In Colab\"/></a>"
      ]
    },
    {
      "cell_type": "markdown",
      "source": [
        "# Making The DataFrames"
      ],
      "metadata": {
        "id": "_11XOaNCFbl1"
      }
    },
    {
      "cell_type": "code",
      "execution_count": null,
      "metadata": {
        "id": "d6RSnnKyFGVT"
      },
      "outputs": [],
      "source": [
        "import cv2\n",
        "import pandas as pd\n",
        "import numpy as np\n",
        "import mediapipe as mp\n",
        "mp_drawing = mp.solutions.drawing_utils\n",
        "mp_drawing_styles = mp.solutions.drawing_styles\n",
        "mp_hands = mp.solutions.hands\n",
        "\n",
        "\n",
        "dictionary0 = {'letter':[],'x0':[],'y0':[],'z0':[],'x1':[],'y1':[],'z1':[],'x2':[],'y2':[],'z2':[],\n",
        "              'x3':[],'y3':[],'z3':[],'x4':[],'y4':[],'z4':[],'x5':[],'y5':[],'z5':[],\n",
        "              'x6':[],'y6':[],'z6':[],'x7':[],'y7':[],'z7':[],'x8':[],'y8':[],'z8':[],\n",
        "              'x9':[],'y9':[],'z9':[],'x10':[],'y10':[],'z10':[],'x11':[],'y11':[],'z11':[],\n",
        "              'x12':[],'y12':[],'z12':[],'x13':[],'y13':[],'z13':[],'x14':[],'y14':[],'z14':[],\n",
        "              'x15':[],'y15':[],'z15':[],'x16':[],'y16':[],'z16':[],'x17':[],'y17':[],'z17':[],\n",
        "              'x18':[],'y18':[],'z18':[],'x19':[],'y19':[],'z19':[],'x20':[],'y20':[],'z20':[]}\n",
        "\n",
        "dictionary1 = {'letter':[],'x0':[],'y0':[],'z0':[],'x1':[],'y1':[],'z1':[],'x2':[],'y2':[],'z2':[],\n",
        "              'x3':[],'y3':[],'z3':[],'x4':[],'y4':[],'z4':[],'x5':[],'y5':[],'z5':[],\n",
        "              'x6':[],'y6':[],'z6':[],'x7':[],'y7':[],'z7':[],'x8':[],'y8':[],'z8':[],\n",
        "              'x9':[],'y9':[],'z9':[],'x10':[],'y10':[],'z10':[],'x11':[],'y11':[],'z11':[],\n",
        "              'x12':[],'y12':[],'z12':[],'x13':[],'y13':[],'z13':[],'x14':[],'y14':[],'z14':[],\n",
        "              'x15':[],'y15':[],'z15':[],'x16':[],'y16':[],'z16':[],'x17':[],'y17':[],'z17':[],\n",
        "              'x18':[],'y18':[],'z18':[],'x19':[],'y19':[],'z19':[],'x20':[],'y20':[],'z20':[]}\n",
        "\n",
        "\n",
        "dictionary2 = {'letter':[],'x0':[],'y0':[],'z0':[],'x1':[],'y1':[],'z1':[],'x2':[],'y2':[],'z2':[],\n",
        "              'x3':[],'y3':[],'z3':[],'x4':[],'y4':[],'z4':[],'x5':[],'y5':[],'z5':[],\n",
        "              'x6':[],'y6':[],'z6':[],'x7':[],'y7':[],'z7':[],'x8':[],'y8':[],'z8':[],\n",
        "              'x9':[],'y9':[],'z9':[],'x10':[],'y10':[],'z10':[],'x11':[],'y11':[],'z11':[],\n",
        "              'x12':[],'y12':[],'z12':[],'x13':[],'y13':[],'z13':[],'x14':[],'y14':[],'z14':[],\n",
        "              'x15':[],'y15':[],'z15':[],'x16':[],'y16':[],'z16':[],'x17':[],'y17':[],'z17':[],\n",
        "              'x18':[],'y18':[],'z18':[],'x19':[],'y19':[],'z19':[],'x20':[],'y20':[],'z20':[]}\n",
        "\n",
        "\n",
        "dictionary3 = {'letter':[],'x0':[],'y0':[],'z0':[],'x1':[],'y1':[],'z1':[],'x2':[],'y2':[],'z2':[],\n",
        "              'x3':[],'y3':[],'z3':[],'x4':[],'y4':[],'z4':[],'x5':[],'y5':[],'z5':[],\n",
        "              'x6':[],'y6':[],'z6':[],'x7':[],'y7':[],'z7':[],'x8':[],'y8':[],'z8':[],\n",
        "              'x9':[],'y9':[],'z9':[],'x10':[],'y10':[],'z10':[],'x11':[],'y11':[],'z11':[],\n",
        "              'x12':[],'y12':[],'z12':[],'x13':[],'y13':[],'z13':[],'x14':[],'y14':[],'z14':[],\n",
        "              'x15':[],'y15':[],'z15':[],'x16':[],'y16':[],'z16':[],'x17':[],'y17':[],'z17':[],\n",
        "              'x18':[],'y18':[],'z18':[],'x19':[],'y19':[],'z19':[],'x20':[],'y20':[],'z20':[]}\n",
        "\n",
        "\n",
        "dictionary4 = {'letter':[],'x0':[],'y0':[],'z0':[],'x1':[],'y1':[],'z1':[],'x2':[],'y2':[],'z2':[],\n",
        "              'x3':[],'y3':[],'z3':[],'x4':[],'y4':[],'z4':[],'x5':[],'y5':[],'z5':[],\n",
        "              'x6':[],'y6':[],'z6':[],'x7':[],'y7':[],'z7':[],'x8':[],'y8':[],'z8':[],\n",
        "              'x9':[],'y9':[],'z9':[],'x10':[],'y10':[],'z10':[],'x11':[],'y11':[],'z11':[],\n",
        "              'x12':[],'y12':[],'z12':[],'x13':[],'y13':[],'z13':[],'x14':[],'y14':[],'z14':[],\n",
        "              'x15':[],'y15':[],'z15':[],'x16':[],'y16':[],'z16':[],'x17':[],'y17':[],'z17':[],\n",
        "              'x18':[],'y18':[],'z18':[],'x19':[],'y19':[],'z19':[],'x20':[],'y20':[],'z20':[]}\n",
        "\n",
        "\n",
        "for n in range(1650,2001):\n",
        " # For static images:\n",
        "  IMAGE_FILES = ['drive/MyDrive/ASL/F/F'+str(n)+'.jpg']\n",
        "  with mp_hands.Hands(\n",
        "      static_image_mode=True,\n",
        "      max_num_hands=2,\n",
        "      min_detection_confidence=0.5) as hands:\n",
        "    for idx, file in enumerate(IMAGE_FILES):\n",
        "      # Read an image, flip it around y-axis for correct handedness output (see\n",
        "      # above).\n",
        "      image = cv2.flip(cv2.imread(file), 1)\n",
        "      # Convert the BGR image to RGB before processing.\n",
        "      results = hands.process(cv2.cvtColor(image, cv2.COLOR_BGR2RGB))\n",
        "\n",
        "      # Print handedness and draw hand landmarks on the image.\n",
        "      if not results.multi_hand_landmarks:\n",
        "        continue\n",
        "      for hand_landmarks in results.multi_hand_landmarks:\n",
        "        d = hand_landmarks.ListFields()\n",
        "        #take all landmarks\n",
        "        landmarks = d[0]\n",
        "        landmarks = landmarks[1]\n",
        "        dictionary0.get('letter').append(0)\n",
        "        #take landmark 0\n",
        "        for i in range(21):\n",
        "          landmark = landmarks[i]\n",
        "          landmark = landmark.ListFields()\n",
        "          #take x\n",
        "          x = landmark[0]\n",
        "          x = x[1]\n",
        "          #take y\n",
        "          y = landmark[1]\n",
        "          y = y[1]\n",
        "          #take z\n",
        "          z = landmark[2]\n",
        "          z = z[1]\n",
        "          dictionary0.get('x'+str(i)).append(x)\n",
        "          dictionary0.get('y'+str(i)).append(y)\n",
        "          dictionary0.get('z'+str(i)).append(z)\n",
        "\n",
        "\n",
        "for n in range(1001,1300):\n",
        "  # For static images:\n",
        "  IMAGE_FILES = ['drive/MyDrive/ASL/B/B'+str(n)+'.jpg']\n",
        "  with mp_hands.Hands(\n",
        "      static_image_mode=True,\n",
        "      max_num_hands=2,\n",
        "      min_detection_confidence=0.5) as hands:\n",
        "    for idx, file in enumerate(IMAGE_FILES):\n",
        "      # Read an image, flip it around y-axis for correct handedness output (see\n",
        "      # above).\n",
        "      image = cv2.flip(cv2.imread(file), 1)\n",
        "      # Convert the BGR image to RGB before processing.\n",
        "      results = hands.process(cv2.cvtColor(image, cv2.COLOR_BGR2RGB))\n",
        "\n",
        "      # Print handedness and draw hand landmarks on the image.\n",
        "      if not results.multi_hand_landmarks:\n",
        "        continue\n",
        "      for hand_landmarks in results.multi_hand_landmarks:\n",
        "        d = hand_landmarks.ListFields()\n",
        "        #take all landmarks\n",
        "        landmarks = d[0]\n",
        "        landmarks = landmarks[1]\n",
        "        dictionary1.get('letter').append(1)\n",
        "        #take landmark 0\n",
        "        for i in range(21):\n",
        "          landmark = landmarks[i]\n",
        "          landmark = landmark.ListFields()\n",
        "          #take x\n",
        "          x = landmark[0]\n",
        "          x = x[1]\n",
        "          #take y\n",
        "          y = landmark[1]\n",
        "          y = y[1]\n",
        "          #take z\n",
        "          z = landmark[2]\n",
        "          z = z[1]\n",
        "          dictionary1.get('x'+str(i)).append(x)\n",
        "          dictionary1.get('y'+str(i)).append(y)\n",
        "          dictionary1.get('z'+str(i)).append(z)\n",
        "\n",
        "\n",
        "for n in range(1001,1300):\n",
        "  # For static images:\n",
        "  IMAGE_FILES = ['drive/MyDrive/ASL/G/G'+str(n)+'.jpg']\n",
        "  with mp_hands.Hands(\n",
        "      static_image_mode=True,\n",
        "      max_num_hands=2,\n",
        "      min_detection_confidence=0.5) as hands:\n",
        "    for idx, file in enumerate(IMAGE_FILES):\n",
        "      # Read an image, flip it around y-axis for correct handedness output (see\n",
        "      # above).\n",
        "      image = cv2.flip(cv2.imread(file), 1)\n",
        "      # Convert the BGR image to RGB before processing.\n",
        "      results = hands.process(cv2.cvtColor(image, cv2.COLOR_BGR2RGB))\n",
        "\n",
        "      # Print handedness and draw hand landmarks on the image.\n",
        "      if not results.multi_hand_landmarks:\n",
        "        continue\n",
        "      for hand_landmarks in results.multi_hand_landmarks:\n",
        "        d = hand_landmarks.ListFields()\n",
        "        #take all landmarks\n",
        "        landmarks = d[0]\n",
        "        landmarks = landmarks[1]\n",
        "        dictionary2.get('letter').append(2)\n",
        "        #take landmark 0\n",
        "        for i in range(21):\n",
        "          landmark = landmarks[i]\n",
        "          landmark = landmark.ListFields()\n",
        "          #take x\n",
        "          x = landmark[0]\n",
        "          x = x[1]\n",
        "          #take y\n",
        "          y = landmark[1]\n",
        "          y = y[1]\n",
        "          #take z\n",
        "          z = landmark[2]\n",
        "          z = z[1]\n",
        "          dictionary2.get('x'+str(i)).append(x)\n",
        "          dictionary2.get('y'+str(i)).append(y)\n",
        "          dictionary2.get('z'+str(i)).append(z)\n",
        "\n",
        "\n",
        "for n in range(2501,3001):\n",
        "  # For static images:\n",
        "  IMAGE_FILES = ['drive/MyDrive/ASL/K/K'+str(n)+'.jpg']\n",
        "  with mp_hands.Hands(\n",
        "      static_image_mode=True,\n",
        "      max_num_hands=2,\n",
        "      min_detection_confidence=0.5) as hands:\n",
        "    for idx, file in enumerate(IMAGE_FILES):\n",
        "      # Read an image, flip it around y-axis for correct handedness output (see\n",
        "      # above).\n",
        "      image = cv2.flip(cv2.imread(file), 1)\n",
        "      # Convert the BGR image to RGB before processing.\n",
        "      results = hands.process(cv2.cvtColor(image, cv2.COLOR_BGR2RGB))\n",
        "\n",
        "      # Print handedness and draw hand landmarks on the image.\n",
        "      if not results.multi_hand_landmarks:\n",
        "        continue\n",
        "      for hand_landmarks in results.multi_hand_landmarks:\n",
        "        d = hand_landmarks.ListFields()\n",
        "        #take all landmarks\n",
        "        landmarks = d[0]\n",
        "        landmarks = landmarks[1]\n",
        "        dictionary3.get('letter').append(3)\n",
        "        #take landmark 0\n",
        "        for i in range(21):\n",
        "          landmark = landmarks[i]\n",
        "          landmark = landmark.ListFields()\n",
        "          #take x\n",
        "          x = landmark[0]\n",
        "          x = x[1]\n",
        "          #take y\n",
        "          y = landmark[1]\n",
        "          y = y[1]\n",
        "          #take z\n",
        "          z = landmark[2]\n",
        "          z = z[1]\n",
        "          dictionary3.get('x'+str(i)).append(x)\n",
        "          dictionary3.get('y'+str(i)).append(y)\n",
        "          dictionary3.get('z'+str(i)).append(z)\n",
        "\n",
        "\n",
        "for n in range(2501,3001):\n",
        "  # For static images:\n",
        "  IMAGE_FILES = ['drive/MyDrive/ASL/L/L'+str(n)+'.jpg']\n",
        "  with mp_hands.Hands(\n",
        "      static_image_mode=True,\n",
        "      max_num_hands=2,\n",
        "      min_detection_confidence=0.5) as hands:\n",
        "    for idx, file in enumerate(IMAGE_FILES):\n",
        "      # Read an image, flip it around y-axis for correct handedness output (see\n",
        "      # above).\n",
        "      image = cv2.flip(cv2.imread(file), 1)\n",
        "      # Convert the BGR image to RGB before processing.\n",
        "      results = hands.process(cv2.cvtColor(image, cv2.COLOR_BGR2RGB))\n",
        "\n",
        "      # Print handedness and draw hand landmarks on the image.\n",
        "      if not results.multi_hand_landmarks:\n",
        "        continue\n",
        "      for hand_landmarks in results.multi_hand_landmarks:\n",
        "        d = hand_landmarks.ListFields()\n",
        "        #take all landmarks\n",
        "        landmarks = d[0]\n",
        "        landmarks = landmarks[1]\n",
        "        dictionary4.get('letter').append(4)\n",
        "        #take landmark 0\n",
        "        for i in range(21):\n",
        "          landmark = landmarks[i]\n",
        "          landmark = landmark.ListFields()\n",
        "          #take x\n",
        "          x = landmark[0]\n",
        "          x = x[1]\n",
        "          #take y\n",
        "          y = landmark[1]\n",
        "          y = y[1]\n",
        "          #take z\n",
        "          z = landmark[2]\n",
        "          z = z[1]\n",
        "          dictionary4.get('x'+str(i)).append(x)\n",
        "          dictionary4.get('y'+str(i)).append(y)\n",
        "          dictionary4.get('z'+str(i)).append(z)\n",
        "df0 = pd.DataFrame.from_dict(dictionary0)\n",
        "df1 = pd.DataFrame.from_dict(dictionary1)\n",
        "df2 = pd.DataFrame.from_dict(dictionary2)\n",
        "df3 = pd.DataFrame.from_dict(dictionary3)\n",
        "df4 = pd.DataFrame.from_dict(dictionary4)"
      ]
    },
    {
      "cell_type": "markdown",
      "source": [
        "# Basic MediaPipe Code"
      ],
      "metadata": {
        "id": "LJC9ciiexeLt"
      }
    },
    {
      "cell_type": "code",
      "source": [
        "IMAGE_FILES = ['drive/MyDrive/ASL/B/B1001.jpg']\n",
        "with mp_hands.Hands(\n",
        "    static_image_mode=True,\n",
        "    max_num_hands=2,\n",
        "    min_detection_confidence=0.5) as hands:\n",
        "  for idx, file in enumerate(IMAGE_FILES):\n",
        "    # Read an image, flip it around y-axis for correct handedness output (see\n",
        "    # above).\n",
        "    image = cv2.flip(cv2.imread(file), 1)\n",
        "    # Convert the BGR image to RGB before processing.\n",
        "    results = hands.process(cv2.cvtColor(image, cv2.COLOR_BGR2RGB))\n",
        "\n",
        "    # Print handedness and draw hand landmarks on the image.\n",
        "    print('Handedness:', results.multi_handedness)\n",
        "    if not results.multi_hand_landmarks:\n",
        "      continue\n",
        "    image_height, image_width, _ = image.shape\n",
        "    annotated_image = image.copy()\n",
        "    for hand_landmarks in results.multi_hand_landmarks:\n",
        "      print('hand_landmarks:', hand_landmarks)\n",
        "      print(\n",
        "          f'Index finger tip coordinates: (',\n",
        "          f'{hand_landmarks.landmark[mp_hands.HandLandmark.INDEX_FINGER_TIP].x * image_width}, '\n",
        "          f'{hand_landmarks.landmark[mp_hands.HandLandmark.INDEX_FINGER_TIP].y * image_height})'\n",
        "      )\n",
        "      mp_drawing.draw_landmarks(\n",
        "          annotated_image,\n",
        "          hand_landmarks,\n",
        "          mp_hands.HAND_CONNECTIONS,\n",
        "          mp_drawing_styles.get_default_hand_landmarks_style(),\n",
        "          mp_drawing_styles.get_default_hand_connections_style())\n",
        "    cv2.imwrite(\n",
        "        '/tmp/annotated_image' + str(idx) + '.png', cv2.flip(annotated_image, 1))\n",
        "    # Draw hand world landmarks.\n",
        "    if not results.multi_hand_world_landmarks:\n",
        "      continue\n",
        "    for hand_world_landmarks in results.multi_hand_world_landmarks:\n",
        "      mp_drawing.plot_landmarks(\n",
        "        hand_world_landmarks, mp_hands.HAND_CONNECTIONS, azimuth=5)\n"
      ],
      "metadata": {
        "id": "S9qXVe-eKobL",
        "colab": {
          "base_uri": "https://localhost:8080/",
          "height": 1000
        },
        "outputId": "c02bec1d-616e-4c2b-8ca5-5e736c0df869"
      },
      "execution_count": null,
      "outputs": [
        {
          "output_type": "stream",
          "name": "stdout",
          "text": [
            "Handedness: [classification {\n",
            "  index: 1\n",
            "  score: 0.9259499907493591\n",
            "  label: \"Right\"\n",
            "}\n",
            "]\n",
            "hand_landmarks: landmark {\n",
            "  x: 0.5213682651519775\n",
            "  y: 0.8092190027236938\n",
            "  z: 7.988606967046508e-07\n",
            "}\n",
            "landmark {\n",
            "  x: 0.4042525291442871\n",
            "  y: 0.7717500925064087\n",
            "  z: -0.04029921442270279\n",
            "}\n",
            "landmark {\n",
            "  x: 0.3243553638458252\n",
            "  y: 0.6771625280380249\n",
            "  z: -0.06132149323821068\n",
            "}\n",
            "landmark {\n",
            "  x: 0.365986168384552\n",
            "  y: 0.5911617279052734\n",
            "  z: -0.08077877759933472\n",
            "}\n",
            "landmark {\n",
            "  x: 0.44670170545578003\n",
            "  y: 0.5518345236778259\n",
            "  z: -0.10146508365869522\n",
            "}\n",
            "landmark {\n",
            "  x: 0.37356942892074585\n",
            "  y: 0.5146599411964417\n",
            "  z: -0.0344804972410202\n",
            "}\n",
            "landmark {\n",
            "  x: 0.3507515490055084\n",
            "  y: 0.3914380669593811\n",
            "  z: -0.0701676681637764\n",
            "}\n",
            "landmark {\n",
            "  x: 0.3440679609775543\n",
            "  y: 0.3104005455970764\n",
            "  z: -0.10552109032869339\n",
            "}\n",
            "landmark {\n",
            "  x: 0.3399450480937958\n",
            "  y: 0.24009591341018677\n",
            "  z: -0.13320766389369965\n",
            "}\n",
            "landmark {\n",
            "  x: 0.44141167402267456\n",
            "  y: 0.49203675985336304\n",
            "  z: -0.04340428113937378\n",
            "}\n",
            "landmark {\n",
            "  x: 0.41925403475761414\n",
            "  y: 0.35746777057647705\n",
            "  z: -0.07142925262451172\n",
            "}\n",
            "landmark {\n",
            "  x: 0.4054579436779022\n",
            "  y: 0.2693421244621277\n",
            "  z: -0.10112294554710388\n",
            "}\n",
            "landmark {\n",
            "  x: 0.39526671171188354\n",
            "  y: 0.19496792554855347\n",
            "  z: -0.1230609118938446\n",
            "}\n",
            "landmark {\n",
            "  x: 0.5065397024154663\n",
            "  y: 0.4994526207447052\n",
            "  z: -0.058509476482868195\n",
            "}\n",
            "landmark {\n",
            "  x: 0.4911324381828308\n",
            "  y: 0.3676280975341797\n",
            "  z: -0.08457865566015244\n",
            "}\n",
            "landmark {\n",
            "  x: 0.4800094962120056\n",
            "  y: 0.2837541997432709\n",
            "  z: -0.10632223635911942\n",
            "}\n",
            "landmark {\n",
            "  x: 0.47107914090156555\n",
            "  y: 0.21483966708183289\n",
            "  z: -0.12183287739753723\n",
            "}\n",
            "landmark {\n",
            "  x: 0.5734909176826477\n",
            "  y: 0.5320122838020325\n",
            "  z: -0.0788378119468689\n",
            "}\n",
            "landmark {\n",
            "  x: 0.563481867313385\n",
            "  y: 0.42491549253463745\n",
            "  z: -0.10431595891714096\n",
            "}\n",
            "landmark {\n",
            "  x: 0.5528310537338257\n",
            "  y: 0.35920459032058716\n",
            "  z: -0.11403431743383408\n",
            "}\n",
            "landmark {\n",
            "  x: 0.5423456430435181\n",
            "  y: 0.3025361895561218\n",
            "  z: -0.11992688477039337\n",
            "}\n",
            "\n",
            "Index finger tip coordinates: ( 67.98900961875916, 48.01918268203735)\n"
          ]
        },
        {
          "output_type": "display_data",
          "data": {
            "text/plain": [
              "<Figure size 720x720 with 1 Axes>"
            ],
            "image/png": "[encoded data removed]"
          },
          "metadata": {
            "needs_background": "light"
          }
        }
      ]
    },
    {
      "cell_type": "markdown",
      "source": [
        "# Mergin The DataFrames using pd.DataFrame.append()"
      ],
      "metadata": {
        "id": "NTfIspt6xy79"
      }
    },
    {
      "cell_type": "markdown",
      "source": [
        "# Trasform The DataFrame to CSV file in Drive"
      ],
      "metadata": {
        "id": "0WKPo4LFz3jY"
      }
    },
    {
      "cell_type": "code",
      "source": [
        "df = df0.append(df1)\n",
        "df = df.append(df2)\n",
        "df = df.append(df3)\n",
        "df = df.append(df4)\n",
        "df = df.reset_index()\n",
        "df.to_csv('drive/MyDrive/ASL/hand.csv', index=True)\n",
        "df = df.drop(columns='index')\n",
        "df"
      ],
      "metadata": {
        "colab": {
          "base_uri": "https://localhost:8080/",
          "height": 661
        },
        "id": "jIQ-09VUjnsv",
        "outputId": "9312b016-bd37-4a9a-f400-dc3b4888a2ec"
      },
      "execution_count": null,
      "outputs": [
        {
          "output_type": "execute_result",
          "data": {
            "text/plain": [
              "      letter        x0        y0            z0        x1        y1        z1  \\\n",
              "0          0  0.372680  0.917045 -4.651949e-07  0.303295  0.891149 -0.010283   \n",
              "1          0  0.361637  0.940153 -6.839179e-07  0.295199  0.900890 -0.004785   \n",
              "2          0  0.363086  0.923773 -4.822703e-07  0.293850  0.891062 -0.015608   \n",
              "3          0  0.345296  0.938061 -6.218066e-07  0.274692  0.888219 -0.012400   \n",
              "4          0  0.334734  0.922900 -5.745359e-07  0.264145  0.877493 -0.019889   \n",
              "...      ...       ...       ...           ...       ...       ...       ...   \n",
              "1415       4  0.355118  0.451880  5.447235e-08  0.261871  0.436452 -0.034777   \n",
              "1416       4  0.357565  0.459701  4.715755e-08  0.269285  0.447529 -0.037636   \n",
              "1417       4  0.362886  0.471697  1.524237e-08  0.269344  0.454894 -0.034642   \n",
              "1418       4  0.375297  0.485072 -1.596922e-08  0.272324  0.464587 -0.029063   \n",
              "1419       4  0.378339  0.495105  2.962766e-08  0.282689  0.476605 -0.034978   \n",
              "\n",
              "            x2        y2        z2  ...       z17       x18       y18  \\\n",
              "0     0.246141  0.840994 -0.027548  ... -0.056731  0.491476  0.636450   \n",
              "1     0.234734  0.835119 -0.015235  ... -0.047680  0.505555  0.637446   \n",
              "2     0.233815  0.829748 -0.031742  ... -0.044709  0.506533  0.642139   \n",
              "3     0.216292  0.823687 -0.026255  ... -0.044776  0.505978  0.638489   \n",
              "4     0.205375  0.815141 -0.036969  ... -0.043569  0.495894  0.638173   \n",
              "...        ...       ...       ...  ...       ...       ...       ...   \n",
              "1415  0.180798  0.409614 -0.056118  ... -0.031476  0.361006  0.246976   \n",
              "1416  0.184926  0.417791 -0.060157  ... -0.034727  0.363275  0.255233   \n",
              "1417  0.188014  0.426335 -0.055672  ... -0.028622  0.370076  0.264972   \n",
              "1418  0.191533  0.438240 -0.047617  ... -0.021950  0.376372  0.276425   \n",
              "1419  0.198819  0.446843 -0.056628  ... -0.026953  0.381770  0.286468   \n",
              "\n",
              "           z18       x19       y19       z19       x20       y20       z20  \n",
              "0    -0.082600  0.484481  0.593056 -0.102461  0.460192  0.562599 -0.115687  \n",
              "1    -0.074090  0.495468  0.589717 -0.092294  0.461736  0.556004 -0.103005  \n",
              "2    -0.071897  0.499997  0.595512 -0.091210  0.471904  0.560087 -0.103324  \n",
              "3    -0.073962  0.498104  0.587455 -0.092338  0.463505  0.553714 -0.102815  \n",
              "4    -0.075064  0.489878  0.588745 -0.093056  0.460062  0.553872 -0.102316  \n",
              "...        ...       ...       ...       ...       ...       ...       ...  \n",
              "1415 -0.064378  0.355420  0.299353 -0.049577  0.358528  0.336170 -0.028399  \n",
              "1416 -0.069191  0.360940  0.306075 -0.056357  0.365983  0.342201 -0.036630  \n",
              "1417 -0.060134  0.363844  0.316327 -0.046452  0.366233  0.352709 -0.026940  \n",
              "1418 -0.047270  0.369699  0.330442 -0.029503  0.371931  0.366022 -0.008727  \n",
              "1419 -0.056061  0.375673  0.339025 -0.041746  0.378275  0.376807 -0.022503  \n",
              "\n",
              "[1420 rows x 64 columns]"
            ],
            "text/html": [
              "\n",
              "  <div id=\"df-62a72930-61ad-4c71-b309-ab805f3c3ca5\">\n",
              "    <div class=\"colab-df-container\">\n",
              "      <div>\n",
              "<style scoped>\n",
              "    .dataframe tbody tr th:only-of-type {\n",
              "        vertical-align: middle;\n",
              "    }\n",
              "\n",
              "    .dataframe tbody tr th {\n",
              "        vertical-align: top;\n",
              "    }\n",
              "\n",
              "    .dataframe thead th {\n",
              "        text-align: right;\n",
              "    }\n",
              "</style>\n",
              "<table border=\"1\" class=\"dataframe\">\n",
              "  <thead>\n",
              "    <tr style=\"text-align: right;\">\n",
              "      <th></th>\n",
              "      <th>letter</th>\n",
              "      <th>x0</th>\n",
              "      <th>y0</th>\n",
              "      <th>z0</th>\n",
              "      <th>x1</th>\n",
              "      <th>y1</th>\n",
              "      <th>z1</th>\n",
              "      <th>x2</th>\n",
              "      <th>y2</th>\n",
              "      <th>z2</th>\n",
              "      <th>...</th>\n",
              "      <th>z17</th>\n",
              "      <th>x18</th>\n",
              "      <th>y18</th>\n",
              "      <th>z18</th>\n",
              "      <th>x19</th>\n",
              "      <th>y19</th>\n",
              "      <th>z19</th>\n",
              "      <th>x20</th>\n",
              "      <th>y20</th>\n",
              "      <th>z20</th>\n",
              "    </tr>\n",
              "  </thead>\n",
              "  <tbody>\n",
              "    <tr>\n",
              "      <th>0</th>\n",
              "      <td>0</td>\n",
              "      <td>0.372680</td>\n",
              "      <td>0.917045</td>\n",
              "      <td>-4.651949e-07</td>\n",
              "      <td>0.303295</td>\n",
              "      <td>0.891149</td>\n",
              "      <td>-0.010283</td>\n",
              "      <td>0.246141</td>\n",
              "      <td>0.840994</td>\n",
              "      <td>-0.027548</td>\n",
              "      <td>...</td>\n",
              "      <td>-0.056731</td>\n",
              "      <td>0.491476</td>\n",
              "      <td>0.636450</td>\n",
              "      <td>-0.082600</td>\n",
              "      <td>0.484481</td>\n",
              "      <td>0.593056</td>\n",
              "      <td>-0.102461</td>\n",
              "      <td>0.460192</td>\n",
              "      <td>0.562599</td>\n",
              "      <td>-0.115687</td>\n",
              "    </tr>\n",
              "    <tr>\n",
              "      <th>1</th>\n",
              "      <td>0</td>\n",
              "      <td>0.361637</td>\n",
              "      <td>0.940153</td>\n",
              "      <td>-6.839179e-07</td>\n",
              "      <td>0.295199</td>\n",
              "      <td>0.900890</td>\n",
              "      <td>-0.004785</td>\n",
              "      <td>0.234734</td>\n",
              "      <td>0.835119</td>\n",
              "      <td>-0.015235</td>\n",
              "      <td>...</td>\n",
              "      <td>-0.047680</td>\n",
              "      <td>0.505555</td>\n",
              "      <td>0.637446</td>\n",
              "      <td>-0.074090</td>\n",
              "      <td>0.495468</td>\n",
              "      <td>0.589717</td>\n",
              "      <td>-0.092294</td>\n",
              "      <td>0.461736</td>\n",
              "      <td>0.556004</td>\n",
              "      <td>-0.103005</td>\n",
              "    </tr>\n",
              "    <tr>\n",
              "      <th>2</th>\n",
              "      <td>0</td>\n",
              "      <td>0.363086</td>\n",
              "      <td>0.923773</td>\n",
              "      <td>-4.822703e-07</td>\n",
              "      <td>0.293850</td>\n",
              "      <td>0.891062</td>\n",
              "      <td>-0.015608</td>\n",
              "      <td>0.233815</td>\n",
              "      <td>0.829748</td>\n",
              "      <td>-0.031742</td>\n",
              "      <td>...</td>\n",
              "      <td>-0.044709</td>\n",
              "      <td>0.506533</td>\n",
              "      <td>0.642139</td>\n",
              "      <td>-0.071897</td>\n",
              "      <td>0.499997</td>\n",
              "      <td>0.595512</td>\n",
              "      <td>-0.091210</td>\n",
              "      <td>0.471904</td>\n",
              "      <td>0.560087</td>\n",
              "      <td>-0.103324</td>\n",
              "    </tr>\n",
              "    <tr>\n",
              "      <th>3</th>\n",
              "      <td>0</td>\n",
              "      <td>0.345296</td>\n",
              "      <td>0.938061</td>\n",
              "      <td>-6.218066e-07</td>\n",
              "      <td>0.274692</td>\n",
              "      <td>0.888219</td>\n",
              "      <td>-0.012400</td>\n",
              "      <td>0.216292</td>\n",
              "      <td>0.823687</td>\n",
              "      <td>-0.026255</td>\n",
              "      <td>...</td>\n",
              "      <td>-0.044776</td>\n",
              "      <td>0.505978</td>\n",
              "      <td>0.638489</td>\n",
              "      <td>-0.073962</td>\n",
              "      <td>0.498104</td>\n",
              "      <td>0.587455</td>\n",
              "      <td>-0.092338</td>\n",
              "      <td>0.463505</td>\n",
              "      <td>0.553714</td>\n",
              "      <td>-0.102815</td>\n",
              "    </tr>\n",
              "    <tr>\n",
              "      <th>4</th>\n",
              "      <td>0</td>\n",
              "      <td>0.334734</td>\n",
              "      <td>0.922900</td>\n",
              "      <td>-5.745359e-07</td>\n",
              "      <td>0.264145</td>\n",
              "      <td>0.877493</td>\n",
              "      <td>-0.019889</td>\n",
              "      <td>0.205375</td>\n",
              "      <td>0.815141</td>\n",
              "      <td>-0.036969</td>\n",
              "      <td>...</td>\n",
              "      <td>-0.043569</td>\n",
              "      <td>0.495894</td>\n",
              "      <td>0.638173</td>\n",
              "      <td>-0.075064</td>\n",
              "      <td>0.489878</td>\n",
              "      <td>0.588745</td>\n",
              "      <td>-0.093056</td>\n",
              "      <td>0.460062</td>\n",
              "      <td>0.553872</td>\n",
              "      <td>-0.102316</td>\n",
              "    </tr>\n",
              "    <tr>\n",
              "      <th>...</th>\n",
              "      <td>...</td>\n",
              "      <td>...</td>\n",
              "      <td>...</td>\n",
              "      <td>...</td>\n",
              "      <td>...</td>\n",
              "      <td>...</td>\n",
              "      <td>...</td>\n",
              "      <td>...</td>\n",
              "      <td>...</td>\n",
              "      <td>...</td>\n",
              "      <td>...</td>\n",
              "      <td>...</td>\n",
              "      <td>...</td>\n",
              "      <td>...</td>\n",
              "      <td>...</td>\n",
              "      <td>...</td>\n",
              "      <td>...</td>\n",
              "      <td>...</td>\n",
              "      <td>...</td>\n",
              "      <td>...</td>\n",
              "      <td>...</td>\n",
              "    </tr>\n",
              "    <tr>\n",
              "      <th>1415</th>\n",
              "      <td>4</td>\n",
              "      <td>0.355118</td>\n",
              "      <td>0.451880</td>\n",
              "      <td>5.447235e-08</td>\n",
              "      <td>0.261871</td>\n",
              "      <td>0.436452</td>\n",
              "      <td>-0.034777</td>\n",
              "      <td>0.180798</td>\n",
              "      <td>0.409614</td>\n",
              "      <td>-0.056118</td>\n",
              "      <td>...</td>\n",
              "      <td>-0.031476</td>\n",
              "      <td>0.361006</td>\n",
              "      <td>0.246976</td>\n",
              "      <td>-0.064378</td>\n",
              "      <td>0.355420</td>\n",
              "      <td>0.299353</td>\n",
              "      <td>-0.049577</td>\n",
              "      <td>0.358528</td>\n",
              "      <td>0.336170</td>\n",
              "      <td>-0.028399</td>\n",
              "    </tr>\n",
              "    <tr>\n",
              "      <th>1416</th>\n",
              "      <td>4</td>\n",
              "      <td>0.357565</td>\n",
              "      <td>0.459701</td>\n",
              "      <td>4.715755e-08</td>\n",
              "      <td>0.269285</td>\n",
              "      <td>0.447529</td>\n",
              "      <td>-0.037636</td>\n",
              "      <td>0.184926</td>\n",
              "      <td>0.417791</td>\n",
              "      <td>-0.060157</td>\n",
              "      <td>...</td>\n",
              "      <td>-0.034727</td>\n",
              "      <td>0.363275</td>\n",
              "      <td>0.255233</td>\n",
              "      <td>-0.069191</td>\n",
              "      <td>0.360940</td>\n",
              "      <td>0.306075</td>\n",
              "      <td>-0.056357</td>\n",
              "      <td>0.365983</td>\n",
              "      <td>0.342201</td>\n",
              "      <td>-0.036630</td>\n",
              "    </tr>\n",
              "    <tr>\n",
              "      <th>1417</th>\n",
              "      <td>4</td>\n",
              "      <td>0.362886</td>\n",
              "      <td>0.471697</td>\n",
              "      <td>1.524237e-08</td>\n",
              "      <td>0.269344</td>\n",
              "      <td>0.454894</td>\n",
              "      <td>-0.034642</td>\n",
              "      <td>0.188014</td>\n",
              "      <td>0.426335</td>\n",
              "      <td>-0.055672</td>\n",
              "      <td>...</td>\n",
              "      <td>-0.028622</td>\n",
              "      <td>0.370076</td>\n",
              "      <td>0.264972</td>\n",
              "      <td>-0.060134</td>\n",
              "      <td>0.363844</td>\n",
              "      <td>0.316327</td>\n",
              "      <td>-0.046452</td>\n",
              "      <td>0.366233</td>\n",
              "      <td>0.352709</td>\n",
              "      <td>-0.026940</td>\n",
              "    </tr>\n",
              "    <tr>\n",
              "      <th>1418</th>\n",
              "      <td>4</td>\n",
              "      <td>0.375297</td>\n",
              "      <td>0.485072</td>\n",
              "      <td>-1.596922e-08</td>\n",
              "      <td>0.272324</td>\n",
              "      <td>0.464587</td>\n",
              "      <td>-0.029063</td>\n",
              "      <td>0.191533</td>\n",
              "      <td>0.438240</td>\n",
              "      <td>-0.047617</td>\n",
              "      <td>...</td>\n",
              "      <td>-0.021950</td>\n",
              "      <td>0.376372</td>\n",
              "      <td>0.276425</td>\n",
              "      <td>-0.047270</td>\n",
              "      <td>0.369699</td>\n",
              "      <td>0.330442</td>\n",
              "      <td>-0.029503</td>\n",
              "      <td>0.371931</td>\n",
              "      <td>0.366022</td>\n",
              "      <td>-0.008727</td>\n",
              "    </tr>\n",
              "    <tr>\n",
              "      <th>1419</th>\n",
              "      <td>4</td>\n",
              "      <td>0.378339</td>\n",
              "      <td>0.495105</td>\n",
              "      <td>2.962766e-08</td>\n",
              "      <td>0.282689</td>\n",
              "      <td>0.476605</td>\n",
              "      <td>-0.034978</td>\n",
              "      <td>0.198819</td>\n",
              "      <td>0.446843</td>\n",
              "      <td>-0.056628</td>\n",
              "      <td>...</td>\n",
              "      <td>-0.026953</td>\n",
              "      <td>0.381770</td>\n",
              "      <td>0.286468</td>\n",
              "      <td>-0.056061</td>\n",
              "      <td>0.375673</td>\n",
              "      <td>0.339025</td>\n",
              "      <td>-0.041746</td>\n",
              "      <td>0.378275</td>\n",
              "      <td>0.376807</td>\n",
              "      <td>-0.022503</td>\n",
              "    </tr>\n",
              "  </tbody>\n",
              "</table>\n",
              "<p>1420 rows × 64 columns</p>\n",
              "</div>\n",
              "      <button class=\"colab-df-convert\" onclick=\"convertToInteractive('df-62a72930-61ad-4c71-b309-ab805f3c3ca5')\"\n",
              "              title=\"Convert this dataframe to an interactive table.\"\n",
              "              style=\"display:none;\">\n",
              "        \n",
              "  <svg xmlns=\"http://www.w3.org/2000/svg\" height=\"24px\"viewBox=\"0 0 24 24\"\n",
              "       width=\"24px\">\n",
              "    <path d=\"M0 0h24v24H0V0z\" fill=\"none\"/>\n",
              "    <path d=\"M18.56 5.44l.94 2.06.94-2.06 2.06-.94-2.06-.94-.94-2.06-.94 2.06-2.06.94zm-11 1L8.5 8.5l.94-2.06 2.06-.94-2.06-.94L8.5 2.5l-.94 2.06-2.06.94zm10 10l.94 2.06.94-2.06 2.06-.94-2.06-.94-.94-2.06-.94 2.06-2.06.94z\"/><path d=\"M17.41 7.96l-1.37-1.37c-.4-.4-.92-.59-1.43-.59-.52 0-1.04.2-1.43.59L10.3 9.45l-7.72 7.72c-.78.78-.78 2.05 0 2.83L4 21.41c.39.39.9.59 1.41.59.51 0 1.02-.2 1.41-.59l7.78-7.78 2.81-2.81c.8-.78.8-2.07 0-2.86zM5.41 20L4 18.59l7.72-7.72 1.47 1.35L5.41 20z\"/>\n",
              "  </svg>\n",
              "      </button>\n",
              "      \n",
              "  <style>\n",
              "    .colab-df-container {\n",
              "      display:flex;\n",
              "      flex-wrap:wrap;\n",
              "      gap: 12px;\n",
              "    }\n",
              "\n",
              "    .colab-df-convert {\n",
              "      background-color: #E8F0FE;\n",
              "      border: none;\n",
              "      border-radius: 50%;\n",
              "      cursor: pointer;\n",
              "      display: none;\n",
              "      fill: #1967D2;\n",
              "      height: 32px;\n",
              "      padding: 0 0 0 0;\n",
              "      width: 32px;\n",
              "    }\n",
              "\n",
              "    .colab-df-convert:hover {\n",
              "      background-color: #E2EBFA;\n",
              "      box-shadow: 0px 1px 2px rgba(60, 64, 67, 0.3), 0px 1px 3px 1px rgba(60, 64, 67, 0.15);\n",
              "      fill: #174EA6;\n",
              "    }\n",
              "\n",
              "    [theme=dark] .colab-df-convert {\n",
              "      background-color: #3B4455;\n",
              "      fill: #D2E3FC;\n",
              "    }\n",
              "\n",
              "    [theme=dark] .colab-df-convert:hover {\n",
              "      background-color: #434B5C;\n",
              "      box-shadow: 0px 1px 3px 1px rgba(0, 0, 0, 0.15);\n",
              "      filter: drop-shadow(0px 1px 2px rgba(0, 0, 0, 0.3));\n",
              "      fill: #FFFFFF;\n",
              "    }\n",
              "  </style>\n",
              "\n",
              "      <script>\n",
              "        const buttonEl =\n",
              "          document.querySelector('#df-62a72930-61ad-4c71-b309-ab805f3c3ca5 button.colab-df-convert');\n",
              "        buttonEl.style.display =\n",
              "          google.colab.kernel.accessAllowed ? 'block' : 'none';\n",
              "\n",
              "        async function convertToInteractive(key) {\n",
              "          const element = document.querySelector('#df-62a72930-61ad-4c71-b309-ab805f3c3ca5');\n",
              "          const dataTable =\n",
              "            await google.colab.kernel.invokeFunction('convertToInteractive',\n",
              "                                                     [key], {});\n",
              "          if (!dataTable) return;\n",
              "\n",
              "          const docLinkHtml = 'Like what you see? Visit the ' +\n",
              "            '<a target=\"_blank\" href=https://colab.research.google.com/notebooks/data_table.ipynb>data table notebook</a>'\n",
              "            + ' to learn more about interactive tables.';\n",
              "          element.innerHTML = '';\n",
              "          dataTable['output_type'] = 'display_data';\n",
              "          await google.colab.output.renderOutput(dataTable, element);\n",
              "          const docLink = document.createElement('div');\n",
              "          docLink.innerHTML = docLinkHtml;\n",
              "          element.appendChild(docLink);\n",
              "        }\n",
              "      </script>\n",
              "    </div>\n",
              "  </div>\n",
              "  "
            ]
          },
          "metadata": {},
          "execution_count": 10
        }
      ]
    },
    {
      "cell_type": "markdown",
      "source": [
        "# Get X from the DataFrame"
      ],
      "metadata": {
        "id": "RvhqOMGUX88H"
      }
    },
    {
      "cell_type": "code",
      "source": [
        "x = ['x0','y0','z0','x1','y1','z1','x2','y2','z2',\n",
        "   'x3','y3','z3','x4','y4','z4','x5','y5','z5',\n",
        "   'x6','y6','z6','x7','y7','z7','x8','y8','z8',\n",
        "   'x9','y9','z9','x10','y10','z10','x11','y11','z11',\n",
        "   'x12','y12','z12','x13','y13','z13','x14','y14','z14',\n",
        "   'x15','y15','z15','x16','y16','z16','x17','y17','z17',\n",
        "   'x18','y18','z18','x19','y19','z19','x20','y20','z20']\n",
        "X = df[x]\n",
        "X"
      ],
      "metadata": {
        "id": "JQDsIgOEnKqL",
        "colab": {
          "base_uri": "https://localhost:8080/",
          "height": 661
        },
        "outputId": "1de926e5-ff40-4f12-fda1-d79c6fef74b5"
      },
      "execution_count": null,
      "outputs": [
        {
          "output_type": "execute_result",
          "data": {
            "text/plain": [
              "            x0        y0            z0        x1        y1        z1  \\\n",
              "0     0.372680  0.917045 -4.651949e-07  0.303295  0.891149 -0.010283   \n",
              "1     0.361637  0.940153 -6.839179e-07  0.295199  0.900890 -0.004785   \n",
              "2     0.363086  0.923773 -4.822703e-07  0.293850  0.891062 -0.015608   \n",
              "3     0.345296  0.938061 -6.218066e-07  0.274692  0.888219 -0.012400   \n",
              "4     0.334734  0.922900 -5.745359e-07  0.264145  0.877493 -0.019889   \n",
              "...        ...       ...           ...       ...       ...       ...   \n",
              "1415  0.355118  0.451880  5.447235e-08  0.261871  0.436452 -0.034777   \n",
              "1416  0.357565  0.459701  4.715755e-08  0.269285  0.447529 -0.037636   \n",
              "1417  0.362886  0.471697  1.524237e-08  0.269344  0.454894 -0.034642   \n",
              "1418  0.375297  0.485072 -1.596922e-08  0.272324  0.464587 -0.029063   \n",
              "1419  0.378339  0.495105  2.962766e-08  0.282689  0.476605 -0.034978   \n",
              "\n",
              "            x2        y2        z2        x3  ...       z17       x18  \\\n",
              "0     0.246141  0.840994 -0.027548  0.196180  ... -0.056731  0.491476   \n",
              "1     0.234734  0.835119 -0.015235  0.184737  ... -0.047680  0.505555   \n",
              "2     0.233815  0.829748 -0.031742  0.184299  ... -0.044709  0.506533   \n",
              "3     0.216292  0.823687 -0.026255  0.168282  ... -0.044776  0.505978   \n",
              "4     0.205375  0.815141 -0.036969  0.158009  ... -0.043569  0.495894   \n",
              "...        ...       ...       ...       ...  ...       ...       ...   \n",
              "1415  0.180798  0.409614 -0.056118  0.109564  ... -0.031476  0.361006   \n",
              "1416  0.184926  0.417791 -0.060157  0.113381  ... -0.034727  0.363275   \n",
              "1417  0.188014  0.426335 -0.055672  0.116646  ... -0.028622  0.370076   \n",
              "1418  0.191533  0.438240 -0.047617  0.120029  ... -0.021950  0.376372   \n",
              "1419  0.198819  0.446843 -0.056628  0.127237  ... -0.026953  0.381770   \n",
              "\n",
              "           y18       z18       x19       y19       z19       x20       y20  \\\n",
              "0     0.636450 -0.082600  0.484481  0.593056 -0.102461  0.460192  0.562599   \n",
              "1     0.637446 -0.074090  0.495468  0.589717 -0.092294  0.461736  0.556004   \n",
              "2     0.642139 -0.071897  0.499997  0.595512 -0.091210  0.471904  0.560087   \n",
              "3     0.638489 -0.073962  0.498104  0.587455 -0.092338  0.463505  0.553714   \n",
              "4     0.638173 -0.075064  0.489878  0.588745 -0.093056  0.460062  0.553872   \n",
              "...        ...       ...       ...       ...       ...       ...       ...   \n",
              "1415  0.246976 -0.064378  0.355420  0.299353 -0.049577  0.358528  0.336170   \n",
              "1416  0.255233 -0.069191  0.360940  0.306075 -0.056357  0.365983  0.342201   \n",
              "1417  0.264972 -0.060134  0.363844  0.316327 -0.046452  0.366233  0.352709   \n",
              "1418  0.276425 -0.047270  0.369699  0.330442 -0.029503  0.371931  0.366022   \n",
              "1419  0.286468 -0.056061  0.375673  0.339025 -0.041746  0.378275  0.376807   \n",
              "\n",
              "           z20  \n",
              "0    -0.115687  \n",
              "1    -0.103005  \n",
              "2    -0.103324  \n",
              "3    -0.102815  \n",
              "4    -0.102316  \n",
              "...        ...  \n",
              "1415 -0.028399  \n",
              "1416 -0.036630  \n",
              "1417 -0.026940  \n",
              "1418 -0.008727  \n",
              "1419 -0.022503  \n",
              "\n",
              "[1420 rows x 63 columns]"
            ],
            "text/html": [
              "\n",
              "  <div id=\"df-c99f1c79-7e4b-4bb9-8061-0770c2954d52\">\n",
              "    <div class=\"colab-df-container\">\n",
              "      <div>\n",
              "<style scoped>\n",
              "    .dataframe tbody tr th:only-of-type {\n",
              "        vertical-align: middle;\n",
              "    }\n",
              "\n",
              "    .dataframe tbody tr th {\n",
              "        vertical-align: top;\n",
              "    }\n",
              "\n",
              "    .dataframe thead th {\n",
              "        text-align: right;\n",
              "    }\n",
              "</style>\n",
              "<table border=\"1\" class=\"dataframe\">\n",
              "  <thead>\n",
              "    <tr style=\"text-align: right;\">\n",
              "      <th></th>\n",
              "      <th>x0</th>\n",
              "      <th>y0</th>\n",
              "      <th>z0</th>\n",
              "      <th>x1</th>\n",
              "      <th>y1</th>\n",
              "      <th>z1</th>\n",
              "      <th>x2</th>\n",
              "      <th>y2</th>\n",
              "      <th>z2</th>\n",
              "      <th>x3</th>\n",
              "      <th>...</th>\n",
              "      <th>z17</th>\n",
              "      <th>x18</th>\n",
              "      <th>y18</th>\n",
              "      <th>z18</th>\n",
              "      <th>x19</th>\n",
              "      <th>y19</th>\n",
              "      <th>z19</th>\n",
              "      <th>x20</th>\n",
              "      <th>y20</th>\n",
              "      <th>z20</th>\n",
              "    </tr>\n",
              "  </thead>\n",
              "  <tbody>\n",
              "    <tr>\n",
              "      <th>0</th>\n",
              "      <td>0.372680</td>\n",
              "      <td>0.917045</td>\n",
              "      <td>-4.651949e-07</td>\n",
              "      <td>0.303295</td>\n",
              "      <td>0.891149</td>\n",
              "      <td>-0.010283</td>\n",
              "      <td>0.246141</td>\n",
              "      <td>0.840994</td>\n",
              "      <td>-0.027548</td>\n",
              "      <td>0.196180</td>\n",
              "      <td>...</td>\n",
              "      <td>-0.056731</td>\n",
              "      <td>0.491476</td>\n",
              "      <td>0.636450</td>\n",
              "      <td>-0.082600</td>\n",
              "      <td>0.484481</td>\n",
              "      <td>0.593056</td>\n",
              "      <td>-0.102461</td>\n",
              "      <td>0.460192</td>\n",
              "      <td>0.562599</td>\n",
              "      <td>-0.115687</td>\n",
              "    </tr>\n",
              "    <tr>\n",
              "      <th>1</th>\n",
              "      <td>0.361637</td>\n",
              "      <td>0.940153</td>\n",
              "      <td>-6.839179e-07</td>\n",
              "      <td>0.295199</td>\n",
              "      <td>0.900890</td>\n",
              "      <td>-0.004785</td>\n",
              "      <td>0.234734</td>\n",
              "      <td>0.835119</td>\n",
              "      <td>-0.015235</td>\n",
              "      <td>0.184737</td>\n",
              "      <td>...</td>\n",
              "      <td>-0.047680</td>\n",
              "      <td>0.505555</td>\n",
              "      <td>0.637446</td>\n",
              "      <td>-0.074090</td>\n",
              "      <td>0.495468</td>\n",
              "      <td>0.589717</td>\n",
              "      <td>-0.092294</td>\n",
              "      <td>0.461736</td>\n",
              "      <td>0.556004</td>\n",
              "      <td>-0.103005</td>\n",
              "    </tr>\n",
              "    <tr>\n",
              "      <th>2</th>\n",
              "      <td>0.363086</td>\n",
              "      <td>0.923773</td>\n",
              "      <td>-4.822703e-07</td>\n",
              "      <td>0.293850</td>\n",
              "      <td>0.891062</td>\n",
              "      <td>-0.015608</td>\n",
              "      <td>0.233815</td>\n",
              "      <td>0.829748</td>\n",
              "      <td>-0.031742</td>\n",
              "      <td>0.184299</td>\n",
              "      <td>...</td>\n",
              "      <td>-0.044709</td>\n",
              "      <td>0.506533</td>\n",
              "      <td>0.642139</td>\n",
              "      <td>-0.071897</td>\n",
              "      <td>0.499997</td>\n",
              "      <td>0.595512</td>\n",
              "      <td>-0.091210</td>\n",
              "      <td>0.471904</td>\n",
              "      <td>0.560087</td>\n",
              "      <td>-0.103324</td>\n",
              "    </tr>\n",
              "    <tr>\n",
              "      <th>3</th>\n",
              "      <td>0.345296</td>\n",
              "      <td>0.938061</td>\n",
              "      <td>-6.218066e-07</td>\n",
              "      <td>0.274692</td>\n",
              "      <td>0.888219</td>\n",
              "      <td>-0.012400</td>\n",
              "      <td>0.216292</td>\n",
              "      <td>0.823687</td>\n",
              "      <td>-0.026255</td>\n",
              "      <td>0.168282</td>\n",
              "      <td>...</td>\n",
              "      <td>-0.044776</td>\n",
              "      <td>0.505978</td>\n",
              "      <td>0.638489</td>\n",
              "      <td>-0.073962</td>\n",
              "      <td>0.498104</td>\n",
              "      <td>0.587455</td>\n",
              "      <td>-0.092338</td>\n",
              "      <td>0.463505</td>\n",
              "      <td>0.553714</td>\n",
              "      <td>-0.102815</td>\n",
              "    </tr>\n",
              "    <tr>\n",
              "      <th>4</th>\n",
              "      <td>0.334734</td>\n",
              "      <td>0.922900</td>\n",
              "      <td>-5.745359e-07</td>\n",
              "      <td>0.264145</td>\n",
              "      <td>0.877493</td>\n",
              "      <td>-0.019889</td>\n",
              "      <td>0.205375</td>\n",
              "      <td>0.815141</td>\n",
              "      <td>-0.036969</td>\n",
              "      <td>0.158009</td>\n",
              "      <td>...</td>\n",
              "      <td>-0.043569</td>\n",
              "      <td>0.495894</td>\n",
              "      <td>0.638173</td>\n",
              "      <td>-0.075064</td>\n",
              "      <td>0.489878</td>\n",
              "      <td>0.588745</td>\n",
              "      <td>-0.093056</td>\n",
              "      <td>0.460062</td>\n",
              "      <td>0.553872</td>\n",
              "      <td>-0.102316</td>\n",
              "    </tr>\n",
              "    <tr>\n",
              "      <th>...</th>\n",
              "      <td>...</td>\n",
              "      <td>...</td>\n",
              "      <td>...</td>\n",
              "      <td>...</td>\n",
              "      <td>...</td>\n",
              "      <td>...</td>\n",
              "      <td>...</td>\n",
              "      <td>...</td>\n",
              "      <td>...</td>\n",
              "      <td>...</td>\n",
              "      <td>...</td>\n",
              "      <td>...</td>\n",
              "      <td>...</td>\n",
              "      <td>...</td>\n",
              "      <td>...</td>\n",
              "      <td>...</td>\n",
              "      <td>...</td>\n",
              "      <td>...</td>\n",
              "      <td>...</td>\n",
              "      <td>...</td>\n",
              "      <td>...</td>\n",
              "    </tr>\n",
              "    <tr>\n",
              "      <th>1415</th>\n",
              "      <td>0.355118</td>\n",
              "      <td>0.451880</td>\n",
              "      <td>5.447235e-08</td>\n",
              "      <td>0.261871</td>\n",
              "      <td>0.436452</td>\n",
              "      <td>-0.034777</td>\n",
              "      <td>0.180798</td>\n",
              "      <td>0.409614</td>\n",
              "      <td>-0.056118</td>\n",
              "      <td>0.109564</td>\n",
              "      <td>...</td>\n",
              "      <td>-0.031476</td>\n",
              "      <td>0.361006</td>\n",
              "      <td>0.246976</td>\n",
              "      <td>-0.064378</td>\n",
              "      <td>0.355420</td>\n",
              "      <td>0.299353</td>\n",
              "      <td>-0.049577</td>\n",
              "      <td>0.358528</td>\n",
              "      <td>0.336170</td>\n",
              "      <td>-0.028399</td>\n",
              "    </tr>\n",
              "    <tr>\n",
              "      <th>1416</th>\n",
              "      <td>0.357565</td>\n",
              "      <td>0.459701</td>\n",
              "      <td>4.715755e-08</td>\n",
              "      <td>0.269285</td>\n",
              "      <td>0.447529</td>\n",
              "      <td>-0.037636</td>\n",
              "      <td>0.184926</td>\n",
              "      <td>0.417791</td>\n",
              "      <td>-0.060157</td>\n",
              "      <td>0.113381</td>\n",
              "      <td>...</td>\n",
              "      <td>-0.034727</td>\n",
              "      <td>0.363275</td>\n",
              "      <td>0.255233</td>\n",
              "      <td>-0.069191</td>\n",
              "      <td>0.360940</td>\n",
              "      <td>0.306075</td>\n",
              "      <td>-0.056357</td>\n",
              "      <td>0.365983</td>\n",
              "      <td>0.342201</td>\n",
              "      <td>-0.036630</td>\n",
              "    </tr>\n",
              "    <tr>\n",
              "      <th>1417</th>\n",
              "      <td>0.362886</td>\n",
              "      <td>0.471697</td>\n",
              "      <td>1.524237e-08</td>\n",
              "      <td>0.269344</td>\n",
              "      <td>0.454894</td>\n",
              "      <td>-0.034642</td>\n",
              "      <td>0.188014</td>\n",
              "      <td>0.426335</td>\n",
              "      <td>-0.055672</td>\n",
              "      <td>0.116646</td>\n",
              "      <td>...</td>\n",
              "      <td>-0.028622</td>\n",
              "      <td>0.370076</td>\n",
              "      <td>0.264972</td>\n",
              "      <td>-0.060134</td>\n",
              "      <td>0.363844</td>\n",
              "      <td>0.316327</td>\n",
              "      <td>-0.046452</td>\n",
              "      <td>0.366233</td>\n",
              "      <td>0.352709</td>\n",
              "      <td>-0.026940</td>\n",
              "    </tr>\n",
              "    <tr>\n",
              "      <th>1418</th>\n",
              "      <td>0.375297</td>\n",
              "      <td>0.485072</td>\n",
              "      <td>-1.596922e-08</td>\n",
              "      <td>0.272324</td>\n",
              "      <td>0.464587</td>\n",
              "      <td>-0.029063</td>\n",
              "      <td>0.191533</td>\n",
              "      <td>0.438240</td>\n",
              "      <td>-0.047617</td>\n",
              "      <td>0.120029</td>\n",
              "      <td>...</td>\n",
              "      <td>-0.021950</td>\n",
              "      <td>0.376372</td>\n",
              "      <td>0.276425</td>\n",
              "      <td>-0.047270</td>\n",
              "      <td>0.369699</td>\n",
              "      <td>0.330442</td>\n",
              "      <td>-0.029503</td>\n",
              "      <td>0.371931</td>\n",
              "      <td>0.366022</td>\n",
              "      <td>-0.008727</td>\n",
              "    </tr>\n",
              "    <tr>\n",
              "      <th>1419</th>\n",
              "      <td>0.378339</td>\n",
              "      <td>0.495105</td>\n",
              "      <td>2.962766e-08</td>\n",
              "      <td>0.282689</td>\n",
              "      <td>0.476605</td>\n",
              "      <td>-0.034978</td>\n",
              "      <td>0.198819</td>\n",
              "      <td>0.446843</td>\n",
              "      <td>-0.056628</td>\n",
              "      <td>0.127237</td>\n",
              "      <td>...</td>\n",
              "      <td>-0.026953</td>\n",
              "      <td>0.381770</td>\n",
              "      <td>0.286468</td>\n",
              "      <td>-0.056061</td>\n",
              "      <td>0.375673</td>\n",
              "      <td>0.339025</td>\n",
              "      <td>-0.041746</td>\n",
              "      <td>0.378275</td>\n",
              "      <td>0.376807</td>\n",
              "      <td>-0.022503</td>\n",
              "    </tr>\n",
              "  </tbody>\n",
              "</table>\n",
              "<p>1420 rows × 63 columns</p>\n",
              "</div>\n",
              "      <button class=\"colab-df-convert\" onclick=\"convertToInteractive('df-c99f1c79-7e4b-4bb9-8061-0770c2954d52')\"\n",
              "              title=\"Convert this dataframe to an interactive table.\"\n",
              "              style=\"display:none;\">\n",
              "        \n",
              "  <svg xmlns=\"http://www.w3.org/2000/svg\" height=\"24px\"viewBox=\"0 0 24 24\"\n",
              "       width=\"24px\">\n",
              "    <path d=\"M0 0h24v24H0V0z\" fill=\"none\"/>\n",
              "    <path d=\"M18.56 5.44l.94 2.06.94-2.06 2.06-.94-2.06-.94-.94-2.06-.94 2.06-2.06.94zm-11 1L8.5 8.5l.94-2.06 2.06-.94-2.06-.94L8.5 2.5l-.94 2.06-2.06.94zm10 10l.94 2.06.94-2.06 2.06-.94-2.06-.94-.94-2.06-.94 2.06-2.06.94z\"/><path d=\"M17.41 7.96l-1.37-1.37c-.4-.4-.92-.59-1.43-.59-.52 0-1.04.2-1.43.59L10.3 9.45l-7.72 7.72c-.78.78-.78 2.05 0 2.83L4 21.41c.39.39.9.59 1.41.59.51 0 1.02-.2 1.41-.59l7.78-7.78 2.81-2.81c.8-.78.8-2.07 0-2.86zM5.41 20L4 18.59l7.72-7.72 1.47 1.35L5.41 20z\"/>\n",
              "  </svg>\n",
              "      </button>\n",
              "      \n",
              "  <style>\n",
              "    .colab-df-container {\n",
              "      display:flex;\n",
              "      flex-wrap:wrap;\n",
              "      gap: 12px;\n",
              "    }\n",
              "\n",
              "    .colab-df-convert {\n",
              "      background-color: #E8F0FE;\n",
              "      border: none;\n",
              "      border-radius: 50%;\n",
              "      cursor: pointer;\n",
              "      display: none;\n",
              "      fill: #1967D2;\n",
              "      height: 32px;\n",
              "      padding: 0 0 0 0;\n",
              "      width: 32px;\n",
              "    }\n",
              "\n",
              "    .colab-df-convert:hover {\n",
              "      background-color: #E2EBFA;\n",
              "      box-shadow: 0px 1px 2px rgba(60, 64, 67, 0.3), 0px 1px 3px 1px rgba(60, 64, 67, 0.15);\n",
              "      fill: #174EA6;\n",
              "    }\n",
              "\n",
              "    [theme=dark] .colab-df-convert {\n",
              "      background-color: #3B4455;\n",
              "      fill: #D2E3FC;\n",
              "    }\n",
              "\n",
              "    [theme=dark] .colab-df-convert:hover {\n",
              "      background-color: #434B5C;\n",
              "      box-shadow: 0px 1px 3px 1px rgba(0, 0, 0, 0.15);\n",
              "      filter: drop-shadow(0px 1px 2px rgba(0, 0, 0, 0.3));\n",
              "      fill: #FFFFFF;\n",
              "    }\n",
              "  </style>\n",
              "\n",
              "      <script>\n",
              "        const buttonEl =\n",
              "          document.querySelector('#df-c99f1c79-7e4b-4bb9-8061-0770c2954d52 button.colab-df-convert');\n",
              "        buttonEl.style.display =\n",
              "          google.colab.kernel.accessAllowed ? 'block' : 'none';\n",
              "\n",
              "        async function convertToInteractive(key) {\n",
              "          const element = document.querySelector('#df-c99f1c79-7e4b-4bb9-8061-0770c2954d52');\n",
              "          const dataTable =\n",
              "            await google.colab.kernel.invokeFunction('convertToInteractive',\n",
              "                                                     [key], {});\n",
              "          if (!dataTable) return;\n",
              "\n",
              "          const docLinkHtml = 'Like what you see? Visit the ' +\n",
              "            '<a target=\"_blank\" href=https://colab.research.google.com/notebooks/data_table.ipynb>data table notebook</a>'\n",
              "            + ' to learn more about interactive tables.';\n",
              "          element.innerHTML = '';\n",
              "          dataTable['output_type'] = 'display_data';\n",
              "          await google.colab.output.renderOutput(dataTable, element);\n",
              "          const docLink = document.createElement('div');\n",
              "          docLink.innerHTML = docLinkHtml;\n",
              "          element.appendChild(docLink);\n",
              "        }\n",
              "      </script>\n",
              "    </div>\n",
              "  </div>\n",
              "  "
            ]
          },
          "metadata": {},
          "execution_count": 13
        }
      ]
    },
    {
      "cell_type": "markdown",
      "source": [
        "# Get y from the DataFrame"
      ],
      "metadata": {
        "id": "3nJUMR7GYCKe"
      }
    },
    {
      "cell_type": "code",
      "source": [
        "y = df['letter']\n",
        "y"
      ],
      "metadata": {
        "colab": {
          "base_uri": "https://localhost:8080/"
        },
        "id": "z2qMW19SXIGa",
        "outputId": "cf8c4765-3941-4451-d658-55c6a1603d4d"
      },
      "execution_count": null,
      "outputs": [
        {
          "output_type": "execute_result",
          "data": {
            "text/plain": [
              "0       0\n",
              "1       0\n",
              "2       0\n",
              "3       0\n",
              "4       0\n",
              "       ..\n",
              "1415    4\n",
              "1416    4\n",
              "1417    4\n",
              "1418    4\n",
              "1419    4\n",
              "Name: letter, Length: 1420, dtype: int64"
            ]
          },
          "metadata": {},
          "execution_count": 15
        }
      ]
    },
    {
      "cell_type": "markdown",
      "source": [
        "# Split the data to X_train X_test y_train y_test"
      ],
      "metadata": {
        "id": "P8cOEUJOYI_r"
      }
    },
    {
      "cell_type": "code",
      "source": [
        "from sklearn.model_selection import train_test_split\n",
        "X_train, X_test, y_train, y_test = train_test_split(X, y, test_size = 0.2, random_state = 0)"
      ],
      "metadata": {
        "id": "4v1WooEFX1iG"
      },
      "execution_count": null,
      "outputs": []
    },
    {
      "cell_type": "markdown",
      "source": [
        "# Apply The SVM Method of classification"
      ],
      "metadata": {
        "id": "KzexTrEdfaOw"
      }
    },
    {
      "cell_type": "code",
      "source": [
        "import seaborn as sns\n",
        "from sklearn.svm import SVC\n",
        "\n",
        "clf = SVC(kernel = 'rbf', C=0.1).fit(X_train, y_train)\n",
        "train = clf.score(X_train, y_train)\n",
        "test = clf.score(X_test, y_test)\n",
        "print(train, test)"
      ],
      "metadata": {
        "colab": {
          "base_uri": "https://localhost:8080/"
        },
        "id": "prGR25B4ZQo9",
        "outputId": "a4a1675f-9eb3-4c01-f2a5-7fc30b51ec6d"
      },
      "execution_count": null,
      "outputs": [
        {
          "output_type": "stream",
          "name": "stdout",
          "text": [
            "0.9920774647887324 0.9859154929577465\n"
          ]
        }
      ]
    },
    {
      "cell_type": "code",
      "source": [
        "clf = SVC(kernel = 'rbf', gamma=100).fit(X_train, y_train)\n",
        "train = clf.score(X_train, y_train)\n",
        "test = clf.score(X_test, y_test)\n",
        "print(train, test)"
      ],
      "metadata": {
        "colab": {
          "base_uri": "https://localhost:8080/"
        },
        "id": "fPDyPCbtaPsn",
        "outputId": "782ae083-b9e5-4b35-bf79-c3ca94a0519d"
      },
      "execution_count": null,
      "outputs": [
        {
          "output_type": "stream",
          "name": "stdout",
          "text": [
            "1.0 0.9823943661971831\n"
          ]
        }
      ]
    },
    {
      "cell_type": "code",
      "source": [
        "clf = SVC(kernel = 'rbf', gamma = 25,C = 0.1).fit(X_train, y_train)\n",
        "train = clf.score(X_train, y_train)\n",
        "test = clf.score(X_test, y_test)\n",
        "print(train, test)"
      ],
      "metadata": {
        "colab": {
          "base_uri": "https://localhost:8080/"
        },
        "id": "uAKe5T6thCEr",
        "outputId": "ac29fbc2-b4d2-405c-c2a2-2e815003104c"
      },
      "execution_count": null,
      "outputs": [
        {
          "output_type": "stream",
          "name": "stdout",
          "text": [
            "0.9286971830985915 0.9119718309859155\n"
          ]
        }
      ]
    },
    {
      "cell_type": "code",
      "source": [
        "from sklearn.metrics import confusion_matrix\n",
        "\n",
        "\n",
        "svm = SVC(kernel='rbf', C=0.1).fit(X_train, y_train)\n",
        "svm_predicted = svm.predict(X_test)\n",
        "confusion = confusion_matrix(y_test, svm_predicted)\n",
        "\n",
        "print('Support vector machine classifier (rbf kernel, C=0.1)\\n', confusion)"
      ],
      "metadata": {
        "colab": {
          "base_uri": "https://localhost:8080/"
        },
        "id": "Hb8oulNxkPjI",
        "outputId": "7888a370-48a8-4b8c-c650-2891266f7532"
      },
      "execution_count": null,
      "outputs": [
        {
          "output_type": "stream",
          "name": "stdout",
          "text": [
            "Support vector machine classifier (rbf kernel, C=1)\n",
            " [[75  0  0  0  0]\n",
            " [ 4 50  0  0  0]\n",
            " [ 0  0 59  0  0]\n",
            " [ 0  0  0 53  0]\n",
            " [ 0  0  0  0 43]]\n"
          ]
        }
      ]
    },
    {
      "cell_type": "code",
      "source": [
        "from sklearn.linear_model import LogisticRegression\n",
        "\n",
        "lr = LogisticRegression().fit(X_train, y_train)\n",
        "lr_predicted = lr.predict(X_test)\n",
        "confusion = confusion_matrix(y_test, lr_predicted)\n",
        "\n",
        "print('Logistic regression classifier (default settings)\\n', confusion)"
      ],
      "metadata": {
        "colab": {
          "base_uri": "https://localhost:8080/"
        },
        "id": "9fRoIo2VrUfL",
        "outputId": "02f205dc-afe0-42ab-e259-60e32d0f0731"
      },
      "execution_count": null,
      "outputs": [
        {
          "output_type": "stream",
          "name": "stdout",
          "text": [
            "Logistic regression classifier (default settings)\n",
            " [[75  0  0  0  0]\n",
            " [ 0 54  0  0  0]\n",
            " [ 0  0 59  0  0]\n",
            " [ 0  0  0 53  0]\n",
            " [ 0  0  0  0 43]]\n"
          ]
        },
        {
          "output_type": "stream",
          "name": "stderr",
          "text": [
            "/usr/local/lib/python3.8/dist-packages/sklearn/linear_model/_logistic.py:814: ConvergenceWarning: lbfgs failed to converge (status=1):\n",
            "STOP: TOTAL NO. of ITERATIONS REACHED LIMIT.\n",
            "\n",
            "Increase the number of iterations (max_iter) or scale the data as shown in:\n",
            "    https://scikit-learn.org/stable/modules/preprocessing.html\n",
            "Please also refer to the documentation for alternative solver options:\n",
            "    https://scikit-learn.org/stable/modules/linear_model.html#logistic-regression\n",
            "  n_iter_i = _check_optimize_result(\n"
          ]
        }
      ]
    },
    {
      "cell_type": "code",
      "source": [
        "from sklearn.tree import DecisionTreeClassifier\n",
        "\n",
        "dt = DecisionTreeClassifier(max_depth=5).fit(X_train, y_train)\n",
        "tree_predicted = dt.predict(X_test)\n",
        "confusion = confusion_matrix(y_test, tree_predicted)\n",
        "\n",
        "print('Decision tree classifier (max_depth = 2)\\n', confusion)"
      ],
      "metadata": {
        "colab": {
          "base_uri": "https://localhost:8080/"
        },
        "id": "uOJeAkIvr0yY",
        "outputId": "889f78f4-3728-4125-d984-1feeca0ed86b"
      },
      "execution_count": null,
      "outputs": [
        {
          "output_type": "stream",
          "name": "stdout",
          "text": [
            "Decision tree classifier (max_depth = 2)\n",
            " [[74  0  1  0  0]\n",
            " [ 0 54  0  0  0]\n",
            " [ 0  0 59  0  0]\n",
            " [ 0  3  0 50  0]\n",
            " [ 0  0  0  0 43]]\n"
          ]
        }
      ]
    },
    {
      "cell_type": "code",
      "source": [
        "from sklearn.metrics import accuracy_score, precision_score, recall_score, f1_score\n",
        "# Accuracy = TP + TN / (TP + TN + FP + FN)\n",
        "# Precision = TP / (TP + FP)\n",
        "# Recall = TP / (TP + FN)  Also known as sensitivity, or True Positive Rate\n",
        "# F1 = 2 * Precision * Recall / (Precision + Recall)\n",
        "print('Accuracy: {:.2f}'.format(accuracy_score(y_test, tree_predicted)))\n",
        "print('Precision: {:.2f}'.format(precision_score(y_test, tree_predicted, pos_label='letter', average='macro')))\n",
        "print('Recall: {:.2f}'.format(recall_score(y_test, tree_predicted, average='macro')))\n",
        "print('F1: {:.2f}'.format(f1_score(y_test, tree_predicted, average='macro')))\n",
        "print('Precision: {:.2f}'.format(precision_score(y_test, tree_predicted, pos_label='letter', average='micro')))\n",
        "print('Recall: {:.2f}'.format(recall_score(y_test, tree_predicted, average='micro')))\n",
        "print('F1: {:.2f}'.format(f1_score(y_test, tree_predicted, average='micro')))"
      ],
      "metadata": {
        "colab": {
          "base_uri": "https://localhost:8080/"
        },
        "id": "jDVm0eLUswfZ",
        "outputId": "fbf2f513-2cd7-4bdf-9d11-63fa8c11dfc0"
      },
      "execution_count": null,
      "outputs": [
        {
          "output_type": "stream",
          "name": "stdout",
          "text": [
            "Accuracy: 0.99\n",
            "Precision: 0.99\n",
            "Recall: 0.99\n",
            "F1: 0.99\n",
            "Precision: 0.99\n",
            "Recall: 0.99\n",
            "F1: 0.99\n"
          ]
        },
        {
          "output_type": "stream",
          "name": "stderr",
          "text": [
            "/usr/local/lib/python3.8/dist-packages/sklearn/metrics/_classification.py:1370: UserWarning: Note that pos_label (set to 'letter') is ignored when average != 'binary' (got 'macro'). You may use labels=[pos_label] to specify a single positive class.\n",
            "  warnings.warn(\n",
            "/usr/local/lib/python3.8/dist-packages/sklearn/metrics/_classification.py:1370: UserWarning: Note that pos_label (set to 'letter') is ignored when average != 'binary' (got 'micro'). You may use labels=[pos_label] to specify a single positive class.\n",
            "  warnings.warn(\n"
          ]
        }
      ]
    },
    {
      "cell_type": "code",
      "source": [
        "from sklearn.metrics import classification_report\n",
        "\n",
        "print(classification_report(y_test, tree_predicted, target_names=['F', 'B', 'G', 'K', 'L']))"
      ],
      "metadata": {
        "colab": {
          "base_uri": "https://localhost:8080/"
        },
        "id": "TJ72FlMztC7X",
        "outputId": "c7fc3b06-3bb2-4500-d2ff-49afae9eb24c"
      },
      "execution_count": null,
      "outputs": [
        {
          "output_type": "stream",
          "name": "stdout",
          "text": [
            "              precision    recall  f1-score   support\n",
            "\n",
            "           F       1.00      0.99      0.99        75\n",
            "           B       0.95      1.00      0.97        54\n",
            "           G       0.98      1.00      0.99        59\n",
            "           K       1.00      0.94      0.97        53\n",
            "           L       1.00      1.00      1.00        43\n",
            "\n",
            "    accuracy                           0.99       284\n",
            "   macro avg       0.99      0.99      0.99       284\n",
            "weighted avg       0.99      0.99      0.99       284\n",
            "\n"
          ]
        }
      ]
    },
    {
      "cell_type": "code",
      "source": [
        "print('SVM\\n',\n",
        "      classification_report(y_test, svm_predicted, target_names = ['F', 'B', 'G', 'K', 'L']))\n",
        "print('Logistic regression\\n',\n",
        "      classification_report(y_test, lr_predicted, target_names = ['F', 'B', 'G', 'K', 'L']))\n",
        "print('Decision tree\\n',\n",
        "      classification_report(y_test, tree_predicted, target_names = ['F', 'B', 'G', 'K', 'L']))"
      ],
      "metadata": {
        "colab": {
          "base_uri": "https://localhost:8080/"
        },
        "id": "ccDkZTltvxtP",
        "outputId": "5b240a0e-74f9-44ff-999b-4e991222dca8"
      },
      "execution_count": null,
      "outputs": [
        {
          "output_type": "stream",
          "name": "stdout",
          "text": [
            "SVM\n",
            "               precision    recall  f1-score   support\n",
            "\n",
            "           F       0.95      1.00      0.97        75\n",
            "           B       1.00      0.93      0.96        54\n",
            "           G       1.00      1.00      1.00        59\n",
            "           K       1.00      1.00      1.00        53\n",
            "           L       1.00      1.00      1.00        43\n",
            "\n",
            "    accuracy                           0.99       284\n",
            "   macro avg       0.99      0.99      0.99       284\n",
            "weighted avg       0.99      0.99      0.99       284\n",
            "\n",
            "Logistic regression\n",
            "               precision    recall  f1-score   support\n",
            "\n",
            "           F       1.00      1.00      1.00        75\n",
            "           B       1.00      1.00      1.00        54\n",
            "           G       1.00      1.00      1.00        59\n",
            "           K       1.00      1.00      1.00        53\n",
            "           L       1.00      1.00      1.00        43\n",
            "\n",
            "    accuracy                           1.00       284\n",
            "   macro avg       1.00      1.00      1.00       284\n",
            "weighted avg       1.00      1.00      1.00       284\n",
            "\n",
            "Decision tree\n",
            "               precision    recall  f1-score   support\n",
            "\n",
            "           F       1.00      0.99      0.99        75\n",
            "           B       0.95      1.00      0.97        54\n",
            "           G       0.98      1.00      0.99        59\n",
            "           K       1.00      0.94      0.97        53\n",
            "           L       1.00      1.00      1.00        43\n",
            "\n",
            "    accuracy                           0.99       284\n",
            "   macro avg       0.99      0.99      0.99       284\n",
            "weighted avg       0.99      0.99      0.99       284\n",
            "\n"
          ]
        }
      ]
    },
    {
      "cell_type": "code",
      "source": [
        "import matplotlib.pyplot as plt\n",
        "\n",
        "svm = SVC(kernel = 'linear').fit(X_train, y_train)\n",
        "svm_predicted = svm.predict(X_test)\n",
        "confusion = confusion_matrix(y_test, svm_predicted)\n",
        "df_cm = pd.DataFrame(confusion,\n",
        "                     index = [i for i in range(0,5)], columns = [i for i in range(0,5)])\n",
        "\n",
        "plt.figure(figsize=(5.5,4))\n",
        "sns.heatmap(df_cm, annot=True)\n",
        "plt.title('SVM Linear Kernel \\nAccuracy:{0:.3f}'.format(accuracy_score(y_test,\n",
        "                                                                       svm_predicted)))\n",
        "plt.ylabel('True label')\n",
        "plt.xlabel('Predicted label')\n",
        "\n",
        "\n",
        "svm = SVC(kernel = 'rbf').fit(X_train, y_train)\n",
        "svm_predicted = svm.predict(X_test)\n",
        "confusion = confusion_matrix(y_test, svm_predicted)\n",
        "df_cm = pd.DataFrame(confusion, index = [i for i in range(0,5)],\n",
        "                  columns = [i for i in range(0,5)])\n",
        "\n",
        "plt.figure(figsize = (5.5,4))\n",
        "sns.heatmap(df_cm, annot=True)\n",
        "plt.title('SVM RBF Kernel \\nAccuracy:{0:.3f}'.format(accuracy_score(y_test,\n",
        "                                                                    svm_predicted)))\n",
        "plt.ylabel('True label')\n",
        "plt.xlabel('Predicted label');"
      ],
      "metadata": {
        "colab": {
          "base_uri": "https://localhost:8080/",
          "height": 603
        },
        "id": "CmAF6VWNwAyG",
        "outputId": "6d2532fb-0b66-4057-ccb4-b0f41b82981b"
      },
      "execution_count": null,
      "outputs": [
        {
          "output_type": "display_data",
          "data": {
            "text/plain": [
              "<Figure size 396x288 with 2 Axes>"
            ],
            "image/png": "[encoded data removed]"
          },
          "metadata": {
            "needs_background": "light"
          }
        },
        {
          "output_type": "display_data",
          "data": {
            "text/plain": [
              "<Figure size 396x288 with 2 Axes>"
            ],
            "image/png": "[encoded data removed]"
          },
          "metadata": {
            "needs_background": "light"
          }
        }
      ]
    },
    {
      "cell_type": "code",
      "source": [
        "print(classification_report(y_test, svm_predicted))"
      ],
      "metadata": {
        "colab": {
          "base_uri": "https://localhost:8080/"
        },
        "id": "nLozbmvxw3gS",
        "outputId": "e2388891-719b-4c77-af54-839ca6b0d368"
      },
      "execution_count": null,
      "outputs": [
        {
          "output_type": "stream",
          "name": "stdout",
          "text": [
            "              precision    recall  f1-score   support\n",
            "\n",
            "           0       1.00      1.00      1.00        75\n",
            "           1       1.00      1.00      1.00        54\n",
            "           2       1.00      1.00      1.00        59\n",
            "           3       1.00      1.00      1.00        53\n",
            "           4       1.00      1.00      1.00        43\n",
            "\n",
            "    accuracy                           1.00       284\n",
            "   macro avg       1.00      1.00      1.00       284\n",
            "weighted avg       1.00      1.00      1.00       284\n",
            "\n"
          ]
        }
      ]
    },
    {
      "cell_type": "code",
      "source": [
        "print('Micro-averaged precision = {:.2f} (treat instances equally)'\n",
        "      .format(precision_score(y_test, svm_predicted, average = 'micro')))\n",
        "print('Macro-averaged precision = {:.2f} (treat classes equally)'\n",
        "      .format(precision_score(y_test, svm_predicted, average = 'macro')))"
      ],
      "metadata": {
        "colab": {
          "base_uri": "https://localhost:8080/"
        },
        "id": "Da_DbBACzwgZ",
        "outputId": "ffcfe0fe-6ace-41a5-9bc7-b23d7e652091"
      },
      "execution_count": null,
      "outputs": [
        {
          "output_type": "stream",
          "name": "stdout",
          "text": [
            "Micro-averaged precision = 1.00 (treat instances equally)\n",
            "Macro-averaged precision = 1.00 (treat classes equally)\n"
          ]
        }
      ]
    },
    {
      "cell_type": "code",
      "source": [
        "print('Micro-averaged f1 = {:.2f} (treat instances equally)'\n",
        "      .format(f1_score(y_test, svm_predicted, average = 'micro')))\n",
        "print('Macro-averaged f1 = {:.2f} (treat classes equally)'\n",
        "      .format(f1_score(y_test, svm_predicted, average = 'macro')))"
      ],
      "metadata": {
        "colab": {
          "base_uri": "https://localhost:8080/"
        },
        "id": "GAO7wGC90BlI",
        "outputId": "7a4696f4-fa21-416a-8d54-70436ef24a8a"
      },
      "execution_count": null,
      "outputs": [
        {
          "output_type": "stream",
          "name": "stdout",
          "text": [
            "Micro-averaged f1 = 1.00 (treat instances equally)\n",
            "Macro-averaged f1 = 1.00 (treat classes equally)\n"
          ]
        }
      ]
    },
    {
      "cell_type": "code",
      "source": [
        "from sklearn.ensemble import RandomForestClassifier\n",
        "from sklearn.datasets import make_classification\n",
        "clf = RandomForestClassifier(n_estimators=25, max_depth=3, random_state=0)\n",
        "clf.fit(X_train, y_train)\n",
        "clf.score(X_test, y_test)"
      ],
      "metadata": {
        "colab": {
          "base_uri": "https://localhost:8080/"
        },
        "id": "DfnkrCy-0lfs",
        "outputId": "085d3802-714b-4c01-8062-918ae6964d9b"
      },
      "execution_count": null,
      "outputs": [
        {
          "output_type": "execute_result",
          "data": {
            "text/plain": [
              "0.9612676056338029"
            ]
          },
          "metadata": {},
          "execution_count": 134
        }
      ]
    },
    {
      "cell_type": "code",
      "source": [
        "from sklearn.neighbors import KNeighborsClassifier\n",
        "neigh = KNeighborsClassifier(n_neighbors=100)\n",
        "neigh.fit(X_train, y_train)\n",
        "print(neigh.score(X_test, y_test))"
      ],
      "metadata": {
        "colab": {
          "base_uri": "https://localhost:8080/"
        },
        "id": "tMGIUgvX2d_U",
        "outputId": "e433f4eb-32aa-4a7a-c59e-0a1afb4ccb2f"
      },
      "execution_count": null,
      "outputs": [
        {
          "output_type": "stream",
          "name": "stdout",
          "text": [
            "0.9014084507042254\n"
          ]
        }
      ]
    },
    {
      "cell_type": "code",
      "source": [
        "from sklearn.ensemble import GradientBoostingClassifier\n",
        "clf = GradientBoostingClassifier(n_estimators=25, learning_rate=0.1, max_depth=5, random_state=0).fit(X_train, y_train)\n",
        "clf.score(X_test, y_test)"
      ],
      "metadata": {
        "colab": {
          "base_uri": "https://localhost:8080/"
        },
        "id": "NBTym-Ab4d7k",
        "outputId": "8d054a77-dddf-4c0e-b3af-fa8002e0d5f1"
      },
      "execution_count": null,
      "outputs": [
        {
          "output_type": "execute_result",
          "data": {
            "text/plain": [
              "0.9964788732394366"
            ]
          },
          "metadata": {},
          "execution_count": 141
        }
      ]
    },
    {
      "cell_type": "code",
      "source": [
        "from sklearn.ensemble import AdaBoostClassifier\n",
        "clf = AdaBoostClassifier(n_estimators=100, learning_rate=0.25, random_state=0)\n",
        "clf.fit(X_train, y_train)\n",
        "clf.score(X_test, y_test)"
      ],
      "metadata": {
        "colab": {
          "base_uri": "https://localhost:8080/"
        },
        "id": "4yW6bgPn5OeP",
        "outputId": "0b3c3213-095b-4637-a4e0-133d49be8a1e"
      },
      "execution_count": null,
      "outputs": [
        {
          "output_type": "execute_result",
          "data": {
            "text/plain": [
              "0.9753521126760564"
            ]
          },
          "metadata": {},
          "execution_count": 156
        }
      ]
    },
    {
      "cell_type": "code",
      "source": [
        "from sklearn.neural_network import MLPClassifier\n",
        "mlp = MLPClassifier(alpha=9, max_iter=1000)\n",
        "mlp.fit(X_train, y_train)\n",
        "mlp.score(X_test, y_test)"
      ],
      "metadata": {
        "colab": {
          "base_uri": "https://localhost:8080/"
        },
        "id": "EdiF54xD7jnZ",
        "outputId": "b19b00b7-e4a0-4525-96f8-7535692bfc2e"
      },
      "execution_count": null,
      "outputs": [
        {
          "output_type": "execute_result",
          "data": {
            "text/plain": [
              "0.9894366197183099"
            ]
          },
          "metadata": {},
          "execution_count": 168
        }
      ]
    },
    {
      "cell_type": "code",
      "source": [
        "from sklearn.naive_bayes import GaussianNB\n",
        "nb = GaussianNB()\n",
        "nb.fit(X_train, y_train)\n",
        "nb.score(X_test, y_test)"
      ],
      "metadata": {
        "colab": {
          "base_uri": "https://localhost:8080/"
        },
        "id": "Ovmp4JwF8vkK",
        "outputId": "d829f11b-786d-4597-ab56-6eb53dca0924"
      },
      "execution_count": null,
      "outputs": [
        {
          "output_type": "execute_result",
          "data": {
            "text/plain": [
              "0.8908450704225352"
            ]
          },
          "metadata": {},
          "execution_count": 169
        }
      ]
    },
    {
      "cell_type": "code",
      "source": [
        "from sklearn.discriminant_analysis import QuadraticDiscriminantAnalysis\n",
        "qda = QuadraticDiscriminantAnalysis(reg_param=0.1)\n",
        "qda.fit(X_train, y_train)\n",
        "qda.score(X_test, y_test)"
      ],
      "metadata": {
        "colab": {
          "base_uri": "https://localhost:8080/"
        },
        "id": "ApK1Pqmm-Kc1",
        "outputId": "ccdbd0b9-9356-43d3-d4e7-340c85f47960"
      },
      "execution_count": null,
      "outputs": [
        {
          "output_type": "stream",
          "name": "stderr",
          "text": [
            "/usr/local/lib/python3.8/dist-packages/sklearn/discriminant_analysis.py:878: UserWarning: Variables are collinear\n",
            "  warnings.warn(\"Variables are collinear\")\n"
          ]
        },
        {
          "output_type": "execute_result",
          "data": {
            "text/plain": [
              "0.9964788732394366"
            ]
          },
          "metadata": {},
          "execution_count": 182
        }
      ]
    },
    {
      "cell_type": "code",
      "source": [],
      "metadata": {
        "id": "CsEfXZFg-rW1"
      },
      "execution_count": null,
      "outputs": []
    }
  ],
  "metadata": {
    "colab": {
      "provenance": [],
      "toc_visible": true,
      "include_colab_link": true
    },
    "kernelspec": {
      "display_name": "Python 3",
      "name": "python3"
    },
    "language_info": {
      "name": "python"
    }
  },
  "nbformat": 4,
  "nbformat_minor": 0
}